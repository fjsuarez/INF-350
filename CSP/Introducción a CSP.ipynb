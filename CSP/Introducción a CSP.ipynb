{
 "cells": [
  {
   "cell_type": "markdown",
   "metadata": {},
   "source": [
    "# Problemas de Satisfacción de Restricciones (CSPs)\n",
    "\n",
    "## Material de lectura\n",
    "\n",
    "Russell & Norvig \"Artificial Intelligence: A Modern Approach\" (3rd edition) pp. 202-233\n",
    "\n",
    "## Implementación en Python\n",
    "\n",
    "https://github.com/aimacode/aima-python/blob/master/csp.py"
   ]
  },
  {
   "cell_type": "markdown",
   "metadata": {},
   "source": [
    "# Búsqueda\n",
    "\n",
    "## ¿Para qué es la búsqueda?\n",
    "\n",
    "Nos permite encontrar soluciones para un conjunto particular de problemas que pueden ser formulados de cierta manera.\n",
    "\n",
    "## Supuestos\n",
    "\n",
    "* Único agente: No hay adversarios que puedan agregar incertidumbre a través de sus acciones\n",
    "* Acciones deterministas: La ejecución irá de acuerdo al plan\n",
    "* Estado completamente observado: Sabemos cómo es nuestro entorno y cómo reaccionará\n",
    "* Espacio de estados discreto"
   ]
  },
  {
   "cell_type": "markdown",
   "metadata": {},
   "source": [
    "## Aplicaciones\n",
    "\n",
    "### Planificación \n",
    "\n",
    "* Nos interesa la secuencia de acciones (trayectoria) para llegar al objetivo\n",
    "* Las trayectorias tienen costos y profundidades\n",
    "* Añadimos información al problema a través de heurística\n",
    "\n",
    "### Identificación (asignación de variables)\n",
    "\n",
    "* Nos interesa la asignación final de las variables, no la trayectoria\n",
    "* Todas las trayectorias tienen la misma profundidad (porque tenemos que asignar todas las variables, en la mayoría de los casos)\n",
    "* CSPs son un caso especial de un problema de identificación"
   ]
  },
  {
   "cell_type": "markdown",
   "metadata": {},
   "source": [
    "## Diferencias entre CSPs y problemas tradicionales de búsqueda\n",
    "\n",
    "### Problema tradicional\n",
    "\n",
    "* Modelo de \"caja negra\": Nuestras acciones están limitadas a comprobar el objetivo y ejecutar la siguiente acción\n",
    "* Estas dos funciones pueden tomar cualquier forma\n",
    "\n",
    "### CSP\n",
    "\n",
    "* El estado está definido por las variables $ X_i $ con valores en un dominio $ D $ o $ D_i $\n",
    "* Nuestra prueba del objetivo es un conjunto de restricciones que especifican combinaciones de valores para las variables\n",
    "\n",
    "\n"
   ]
  },
  {
   "cell_type": "markdown",
   "metadata": {},
   "source": [
    "## Ejemplo 1: Coloreado de mapas\n",
    "\n",
    "![csp1](csp1.PNG)\n",
    "\n",
    "* Variables: $ WA, NT, Q, NSW, V, SA, T $\n",
    "* Dominios: $ D = \\{rojo, azul, verde\\} $\n",
    "* Restricciones: regiones adyacentes deben tener diferente color\n",
    "    * Implícita: $ WA \\neq NT $\n",
    "    * Explícita: $ (WA, NT) \\in \\{(rojo,azul),(rojo,verde),...\\} $\n",
    "* Solución: Todas las asignaciones posibles que satisfacen las restricciones, por ejemplo:\n",
    "    $ \\{WA=rojo, NT=verde, Q=rojo, NSW=verde, V=rojo, SA=azul, T=verde \\} $"
   ]
  },
  {
   "cell_type": "markdown",
   "metadata": {},
   "source": [
    "## Grafos de restricciones\n",
    "\n",
    "* CSP binario: cada restricción relaciona como máximo a dos variables\n",
    "* Grafo de restricciones binarias: Nodos son variables, arcos son restricciones\n",
    "* Los algoritmos de CSP aprovechan la estructura de grafos para mejorar la búsqueda"
   ]
  },
  {
   "cell_type": "markdown",
   "metadata": {},
   "source": [
    "## Variedad de CSPs\n",
    "\n",
    "### Variables\n",
    "\n",
    "* Variables discretas\n",
    "    * Dominios finitos\n",
    "    * Dominios infinitos\n",
    "* Variables continuas\n",
    "\n",
    "### Restricciones\n",
    "\n",
    "* Restricciones unarias (equivalente a reducir el dominio). Ejemplo: $ SA \\neq verde $\n",
    "* Restricciones binarias. Ejemplo: $ SA \\neq WA $\n",
    "* Restricciones de mayor grado: involucran 3 o más variales\n",
    "\n",
    "* Preferencias (o restricciones blandas)\n",
    "    * Rojo es preferido sobre verde\n",
    "    * Representables como un costo para cada asignación de variable\n",
    "    * Da lugar a problemas de optimización restringidos\n"
   ]
  },
  {
   "cell_type": "markdown",
   "metadata": {},
   "source": [
    "# Resolución"
   ]
  },
  {
   "cell_type": "markdown",
   "metadata": {},
   "source": [
    "* Formulación de búsqeda tradicional aplicada a CSPs\n",
    "* Estado definido por la asignación de variables al momento (asignaciones parciales)\n",
    "    * Estado inicial: Estado vacío $ \\{\\} $\n",
    "    * Función sucesor: Asignar un valor a una variable no asignada\n",
    "    * Función objetivo: La asignación es completa y no viola ninguna restricción"
   ]
  }
 ],
 "metadata": {
  "kernelspec": {
   "display_name": "Python [conda root]",
   "language": "python",
   "name": "conda-root-py"
  },
  "language_info": {
   "codemirror_mode": {
    "name": "ipython",
    "version": 3
   },
   "file_extension": ".py",
   "mimetype": "text/x-python",
   "name": "python",
   "nbconvert_exporter": "python",
   "pygments_lexer": "ipython3",
   "version": "3.6.6"
  },
  "toc": {
   "base_numbering": 1,
   "nav_menu": {},
   "number_sections": false,
   "sideBar": true,
   "skip_h1_title": false,
   "title_cell": "Table of Contents",
   "title_sidebar": "Contents",
   "toc_cell": false,
   "toc_position": {},
   "toc_section_display": true,
   "toc_window_display": false
  }
 },
 "nbformat": 4,
 "nbformat_minor": 2
}
